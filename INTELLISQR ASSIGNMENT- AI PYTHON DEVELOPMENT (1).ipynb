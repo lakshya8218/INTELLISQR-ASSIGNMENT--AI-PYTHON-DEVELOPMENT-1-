{
 "cells": [
  {
   "cell_type": "code",
   "execution_count": null,
   "id": "6a8dd4ee-8351-4b70-a4ff-96c7f95463db",
   "metadata": {},
   "outputs": [],
   "source": [
    "import speech_recognition as sr\n",
    "\n",
    "def recognize_speech(r, source):\n",
    "    print(\"Talk\")\n",
    "    r.adjust_for_ambient_noise(source, duration=0.5)\n",
    "    audio_text = r.listen(source)\n",
    "    print(\"Time over\")\n",
    "\n",
    "    try:\n",
    "        text = r.recognize_google(audio_text, language='en-IN')\n",
    "        print(\"Text:\", text)\n",
    "    except sr.UnknownValueError:\n",
    "        print(\"Sorry, I couldn't understand the audio\")\n",
    "    except sr.RequestError as e:\n",
    "        print(f\"Could not request results from Google Speech Recognition service; {e}\")\n",
    "\n",
    "def main():\n",
    "    recognizer = sr.Recognizer()\n",
    "    \n",
    "    choice = input(\"Choose an option (1: Microphone, 2: Upload Audio File): \")\n",
    "\n",
    "    if choice == '1':\n",
    "        with sr.Microphone() as source:\n",
    "            recognize_speech(recognizer, source)\n",
    "    elif choice == '2':\n",
    "        audio_file = input(\"Enter the Audio Wav File: \")\n",
    "        with sr.AudioFile(audio_file) as source:\n",
    "            recognize_speech(recognizer, source)\n",
    "    else:\n",
    "        print(\"Invalid choice. Please choose 1 or 2.\")\n",
    "\n",
    "if __name__ == \"__main__\":\n",
    "    main()\n"
   ]
  },
  {
   "cell_type": "code",
   "execution_count": null,
   "id": "5009ac0b-7a92-4c54-8e2b-d5f2e0b7e474",
   "metadata": {},
   "outputs": [],
   "source": []
  }
 ],
 "metadata": {
  "kernelspec": {
   "display_name": "Python 3 (ipykernel)",
   "language": "python",
   "name": "python3"
  },
  "language_info": {
   "codemirror_mode": {
    "name": "ipython",
    "version": 3
   },
   "file_extension": ".py",
   "mimetype": "text/x-python",
   "name": "python",
   "nbconvert_exporter": "python",
   "pygments_lexer": "ipython3",
   "version": "3.11.5"
  }
 },
 "nbformat": 4,
 "nbformat_minor": 5
}
